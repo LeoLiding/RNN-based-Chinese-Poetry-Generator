{
 "cells": [
  {
   "cell_type": "code",
   "execution_count": 3,
   "id": "bbf4960d",
   "metadata": {},
   "outputs": [],
   "source": [
    "%matplotlib inline\n",
    "import math\n",
    "import torch\n",
    "from torch import nn\n",
    "from torch.nn import functional as F\n",
    "from d2l import torch as d2l\n",
    "\n",
    "batch_size, num_steps = 128, 50\n"
   ]
  },
  {
   "cell_type": "code",
   "execution_count": 4,
   "id": "855b78b8",
   "metadata": {},
   "outputs": [
    {
     "name": "stdout",
     "output_type": "stream",
     "text": [
      "之罘思漢帝，碣石想秦皇。霓裳非本意，端拱且圖王。\n"
     ]
    }
   ],
   "source": [
    "import re\n",
    "import json\n",
    "#@save\n",
    "# def read_wiki():  #@save\n",
    "#     \"\"\"将wiki2数据集加载到文本行的列表中\"\"\"\n",
    "#     with open('./wikitext-103/wiki.train.tokens', 'r',encoding='utf-8') as f:\n",
    "#         lines = f.readlines()\n",
    "#     return [re.sub('[^A-Za-z]+', ' ', line).strip().lower() for line in lines]\n",
    "\n",
    "# # 创建一个空列表来保存所有古诗数据\n",
    "# all_data = []\n",
    "# def read_poem():  #@save\n",
    "# # 读取所有JSON文件，并将其内容添加到all_data列表中\n",
    "#     all_data = []\n",
    "#     for i in range(1, 901):\n",
    "#         file_num = str(i).zfill(3) # 将数字转换为字符串并用0填充至3位数\n",
    "#         with open(f'./chinese-poetry-master/quan_tang_shi/json/{file_num}.json', 'r', encoding='utf-8') as f:\n",
    "#             data = json.load(f)\n",
    "#             all_data += data\n",
    "#             lines = f.readlines()\n",
    "#         return [re.sub('[^A-Za-z]+', ' ', line).strip().lower() for line in lines]\n",
    "# #print(all_data[0])\n",
    "import re\n",
    "import json\n",
    "\n",
    "def read_poem():\n",
    "    all_data = []\n",
    "    for i in range(1, 901):\n",
    "        file_num = str(i).zfill(3)\n",
    "        with open(f'./Chinese Poem NLP/chinese-poetry-master/quan_tang_shi/json/{file_num}.json', 'r', encoding='utf-8') as f:\n",
    "            data = json.load(f)\n",
    "            all_data += data\n",
    "    # Extract the lines from the data\n",
    "    lines = []\n",
    "    for poem in all_data:\n",
    "        for line in poem['paragraphs']:\n",
    "            lines.append(line)\n",
    "    return lines\n",
    "\n",
    "lines = read_poem()\n",
    "print(lines[100])\n"
   ]
  },
  {
   "cell_type": "code",
   "execution_count": 5,
   "id": "7259db4d",
   "metadata": {},
   "outputs": [
    {
     "name": "stdout",
     "output_type": "stream",
     "text": [
      "['秦川雄帝宅，函谷壯皇居。綺殿千尋起，離宮百雉餘。']\n",
      "['連薨遙接漢，飛觀迥淩虛。雲日隱層闕，風煙出綺疏。']\n",
      "['岩廊罷機務，崇文聊駐輦。玉匣啟龍圖，金繩披鳳篆。']\n",
      "['韋編斷仍續，縹帙舒還卷。對此乃淹留，欹案觀墳典。']\n",
      "['移步出詞林，停輿欣武宴。雕弓寫明月，駿馬疑流電。']\n",
      "['驚雁落虛弦，啼猿悲急箭。閱賞誠多美，於茲乃忘倦。']\n",
      "['鳴笳臨樂館，眺聽歡芳節。急管韻朱弦，清歌凝白雪。']\n",
      "['彩鳳肅來儀，玄鶴紛成列。去茲鄭衛聲，雅音方可悅。']\n",
      "['芳辰追逸趣，禁苑信多奇。橋形通漢上，峰勢接雲危。']\n",
      "['煙霞交隱映，花鳥自參差。何如肆轍跡，萬里賞瑤池。']\n",
      "['飛蓋去芳園，蘭橈遊翠渚。萍間日彩亂，荷處香風舉。']\n"
     ]
    }
   ],
   "source": [
    "def tokenize(lines, token='word'):  #@save\n",
    "    \"\"\"将文本行拆分为单词或字符词元\"\"\"\n",
    "    if token == 'word':\n",
    "        return [line.split() for line in lines]\n",
    "    elif token == 'char':\n",
    "        return [list(line) for line in lines]\n",
    "    else:\n",
    "        print('错误：未知词元类型：' + token)\n",
    "\n",
    "tokens = tokenize(lines)\n",
    "for i in range(11):\n",
    "    print(tokens[i])"
   ]
  },
  {
   "cell_type": "code",
   "execution_count": 6,
   "id": "b7d618e1",
   "metadata": {},
   "outputs": [],
   "source": [
    "def load_corpus_poem(max_tokens=-1):\n",
    "    \"\"\"Return token indices and the vocabulary of the wiki dataset.\n",
    "\n",
    "    Defined in :numref:`sec_text_preprocessing`\"\"\"\n",
    "    lines = read_poem()\n",
    "    tokens = d2l.tokenize(lines, 'char')\n",
    "    vocab = d2l.Vocab(tokens)\n",
    "    # Since each text line in the time machine dataset is not necessarily a\n",
    "    # sentence or a paragraph, flatten all the text lines into a single list\n",
    "    corpus = [vocab[token] for line in tokens for token in line]\n",
    "    if max_tokens > 0:\n",
    "        corpus = corpus[:max_tokens]\n",
    "    return corpus, vocab\n"
   ]
  },
  {
   "cell_type": "code",
   "execution_count": 7,
   "id": "f902ff86",
   "metadata": {},
   "outputs": [],
   "source": [
    "class SeqDataLoader:\n",
    "    \"\"\"An iterator to load sequence data.\"\"\"\n",
    "    def __init__(self, batch_size, num_steps, use_random_iter, max_tokens):\n",
    "        \"\"\"Defined in :numref:`sec_language_model`\"\"\"\n",
    "        if use_random_iter:\n",
    "            self.data_iter_fn = d2l.seq_data_iter_random\n",
    "        else:\n",
    "            self.data_iter_fn = d2l.seq_data_iter_sequential\n",
    "        self.corpus, self.vocab = load_corpus_poem(max_tokens)\n",
    "        self.batch_size, self.num_steps = batch_size, num_steps\n",
    "    def __iter__(self):\n",
    "        return self.data_iter_fn(self.corpus, self.batch_size, self.num_steps)\n"
   ]
  },
  {
   "cell_type": "code",
   "execution_count": 8,
   "id": "eafd0faf",
   "metadata": {},
   "outputs": [],
   "source": [
    "def load_data_poem(batch_size, num_steps,\n",
    "                           use_random_iter=False, max_tokens=10000):\n",
    "    \"\"\"Return the iterator and the vocabulary of the time machine dataset.\n",
    "\n",
    "    Defined in :numref:`sec_language_model`\"\"\"\n",
    "    data_iter = SeqDataLoader(\n",
    "        batch_size, num_steps, use_random_iter, max_tokens)\n",
    "    return data_iter, data_iter.vocab"
   ]
  },
  {
   "cell_type": "code",
   "execution_count": 9,
   "id": "47cc1fd6",
   "metadata": {},
   "outputs": [],
   "source": [
    "all_data = []"
   ]
  },
  {
   "cell_type": "code",
   "execution_count": 10,
   "id": "cdc3a6a5",
   "metadata": {},
   "outputs": [],
   "source": [
    "train_iter, vocab = load_data_poem(batch_size, num_steps)"
   ]
  },
  {
   "cell_type": "code",
   "execution_count": 11,
   "id": "e085ad2e",
   "metadata": {},
   "outputs": [
    {
     "data": {
      "text/plain": [
       "tensor([[1, 0, 0,  ..., 0, 0, 0],\n",
       "        [0, 0, 1,  ..., 0, 0, 0]])"
      ]
     },
     "execution_count": 11,
     "metadata": {},
     "output_type": "execute_result"
    }
   ],
   "source": [
    "F.one_hot(torch.tensor([0, 2]), len(vocab))"
   ]
  },
  {
   "cell_type": "code",
   "execution_count": 12,
   "id": "aead70a2",
   "metadata": {},
   "outputs": [
    {
     "data": {
      "text/plain": [
       "torch.Size([5, 2, 28])"
      ]
     },
     "execution_count": 12,
     "metadata": {},
     "output_type": "execute_result"
    }
   ],
   "source": [
    "X = torch.arange(10).reshape((2, 5))\n",
    "F.one_hot(X.T, 28).shape"
   ]
  },
  {
   "cell_type": "code",
   "execution_count": 13,
   "id": "d4bbaca4",
   "metadata": {},
   "outputs": [],
   "source": [
    "#初始化模型参数\n",
    "def get_lstm_params(vocab_size, num_hiddens, device):\n",
    "    num_inputs = num_outputs = vocab_size\n",
    "\n",
    "    def normal(shape):\n",
    "        return torch.randn(size=shape, device=device)*0.01\n",
    "\n",
    "    def three():\n",
    "        return (normal((num_inputs, num_hiddens)),\n",
    "                normal((num_hiddens, num_hiddens)),\n",
    "                torch.zeros(num_hiddens, device=device))\n",
    "\n",
    "    W_xi, W_hi, b_i = three()  # 输入门参数\n",
    "    W_xf, W_hf, b_f = three()  # 遗忘门参数\n",
    "    W_xo, W_ho, b_o = three()  # 输出门参数\n",
    "    W_xc, W_hc, b_c = three()  # 候选记忆元参数\n",
    "    # 输出层参数\n",
    "    W_hq = normal((num_hiddens, num_outputs))\n",
    "    b_q = torch.zeros(num_outputs, device=device)\n",
    "    # 附加梯度\n",
    "    params = [W_xi, W_hi, b_i, W_xf, W_hf, b_f, W_xo, W_ho, b_o, W_xc, W_hc,\n",
    "              b_c, W_hq, b_q]\n",
    "    for param in params:\n",
    "        param.requires_grad_(True)\n",
    "    return params"
   ]
  },
  {
   "cell_type": "code",
   "execution_count": 14,
   "id": "e007716b",
   "metadata": {},
   "outputs": [],
   "source": [
    "#定义模型\n",
    "def init_lstm_state(batch_size, num_hiddens, device):\n",
    "    return (torch.zeros((batch_size, num_hiddens), device=device),\n",
    "            torch.zeros((batch_size, num_hiddens), device=device))"
   ]
  },
  {
   "cell_type": "code",
   "execution_count": 15,
   "id": "af1087a2",
   "metadata": {},
   "outputs": [],
   "source": [
    "def lstm(inputs, state, params):\n",
    "    [W_xi, W_hi, b_i, W_xf, W_hf, b_f, W_xo, W_ho, b_o, W_xc, W_hc, b_c,\n",
    "     W_hq, b_q] = params\n",
    "    (H, C) = state\n",
    "    outputs = []\n",
    "    for X in inputs:\n",
    "        I = torch.sigmoid((X @ W_xi) + (H @ W_hi) + b_i)\n",
    "        F = torch.sigmoid((X @ W_xf) + (H @ W_hf) + b_f)\n",
    "        O = torch.sigmoid((X @ W_xo) + (H @ W_ho) + b_o)\n",
    "        C_tilda = torch.tanh((X @ W_xc) + (H @ W_hc) + b_c)\n",
    "        C = F * C + I * C_tilda\n",
    "        H = O * torch.tanh(C)\n",
    "        Y = (H @ W_hq) + b_q\n",
    "        outputs.append(Y)\n",
    "    return torch.cat(outputs, dim=0), (H, C)"
   ]
  },
  {
   "cell_type": "code",
   "execution_count": 16,
   "id": "71bf2200",
   "metadata": {},
   "outputs": [],
   "source": [
    "def grad_clipping(net, theta):  #@save\n",
    "    \"\"\"裁剪梯度\"\"\"\n",
    "    if isinstance(net, nn.Module):\n",
    "        params = [p for p in net.parameters() if p.requires_grad]\n",
    "    else:\n",
    "        params = net.params\n",
    "    norm = torch.sqrt(sum(torch.sum((p.grad ** 2)) for p in params))\n",
    "    if norm > theta:\n",
    "        for param in params:\n",
    "            param.grad[:] *= theta / norm"
   ]
  },
  {
   "cell_type": "code",
   "execution_count": 17,
   "id": "2e882ae1",
   "metadata": {},
   "outputs": [],
   "source": [
    "def train_ch8(net, train_iter, vocab, lr, num_epochs, device,\n",
    "              use_random_iter=False):\n",
    "    \"\"\"Train a model (defined in Chapter 8).\n",
    "\n",
    "    Defined in :numref:`sec_rnn_scratch`\"\"\"\n",
    "    loss = nn.CrossEntropyLoss()\n",
    "    animator = d2l.Animator(xlabel='epoch', ylabel='perplexity',\n",
    "                            legend=['train'], xlim=[10, num_epochs])\n",
    "    # Initialize\n",
    "    if isinstance(net, nn.Module):\n",
    "        updater = torch.optim.SGD(net.parameters(), lr)\n",
    "    else:\n",
    "        updater = lambda batch_size: d2l.sgd(net.params, lr, batch_size)\n",
    "    predict = lambda prefix: predict_ch8(prefix, 50, net, vocab, device)\n",
    "    # Train and predict\n",
    "    for epoch in range(num_epochs):\n",
    "        ppl, speed = train_epoch_ch8(\n",
    "            net, train_iter, loss, updater, device, use_random_iter)\n",
    "        if (epoch + 1) % 10 == 0:\n",
    "            print(predict('山中相送罢'))\n",
    "            animator.add(epoch + 1, [ppl])\n",
    "    print(f'perplexity {ppl:.1f}, {speed:.1f} tokens/sec on {str(device)}')\n",
    "    print(predict('千山鸟飞绝'))\n",
    "    print(predict('君问归期未有期'))\n"
   ]
  },
  {
   "cell_type": "code",
   "execution_count": 18,
   "id": "a98839e6",
   "metadata": {},
   "outputs": [],
   "source": [
    "def train_epoch_ch8(net, train_iter, loss, updater, device, use_random_iter):\n",
    "    \"\"\"Train a net within one epoch (defined in Chapter 8).\n",
    "\n",
    "    Defined in :numref:`sec_rnn_scratch`\"\"\"\n",
    "    state, timer = None, d2l.Timer()\n",
    "    metric = d2l.Accumulator(2)  # Sum of training loss, no. of tokens\n",
    "    for X, Y in train_iter:\n",
    "        if state is None or use_random_iter:\n",
    "            # Initialize `state` when either it is the first iteration or\n",
    "            # using random sampling\n",
    "            state = net.begin_state(batch_size=X.shape[0], device=device)\n",
    "        else:\n",
    "            if isinstance(net, nn.Module) and not isinstance(state, tuple):\n",
    "                # `state` is a tensor for `nn.GRU`\n",
    "                state.detach_()\n",
    "            else:\n",
    "                # `state` is a tuple of tensors for `nn.LSTM` and\n",
    "                # for our custom scratch implementation\n",
    "                for s in state:\n",
    "                    s.detach_()\n",
    "        y = Y.T.reshape(-1)\n",
    "        X, y = X.to(device), y.to(device)\n",
    "        y_hat, state = net(X, state)\n",
    "        l = loss(y_hat, y.long()).mean()\n",
    "        if isinstance(updater, torch.optim.Optimizer):\n",
    "            updater.zero_grad()\n",
    "            l.backward()\n",
    "            grad_clipping(net, 1)\n",
    "            updater.step()\n",
    "        else:\n",
    "            l.backward()\n",
    "            grad_clipping(net, 1)\n",
    "            # Since the `mean` function has been invoked\n",
    "            updater(batch_size=1)\n",
    "        metric.add(l * d2l.size(y), d2l.size(y))\n",
    "    return math.exp(metric[0] / metric[1]), metric[1] / timer.stop()"
   ]
  },
  {
   "cell_type": "code",
   "execution_count": 19,
   "id": "df643023",
   "metadata": {},
   "outputs": [],
   "source": [
    "class RNNModelScratch:\n",
    "    \"\"\"A RNN Model implemented from scratch.\"\"\"\n",
    "    def __init__(self, vocab_size, num_hiddens, device,\n",
    "                 get_params, init_state, forward_fn):\n",
    "        \"\"\"Defined in :numref:`sec_rnn_scratch`\"\"\"\n",
    "        self.vocab_size, self.num_hiddens = vocab_size, num_hiddens\n",
    "        self.params = get_params(vocab_size, num_hiddens, device)\n",
    "        self.init_state, self.forward_fn = init_state, forward_fn\n",
    "\n",
    "    def __call__(self, X, state):\n",
    "        X = F.one_hot(X.T, self.vocab_size).type(torch.float32)\n",
    "        return self.forward_fn(X, state, self.params)\n",
    "\n",
    "    def begin_state(self, batch_size, device):\n",
    "        return self.init_state(batch_size, self.num_hiddens, device)\n"
   ]
  },
  {
   "cell_type": "code",
   "execution_count": 20,
   "id": "d17172d1",
   "metadata": {},
   "outputs": [],
   "source": [
    "def predict_ch8(prefix, num_preds, net, vocab, device):  #@save\n",
    "    \"\"\"在prefix后面生成新字符\"\"\"\n",
    "    state = net.begin_state(batch_size=1, device=device)\n",
    "    outputs = [vocab[prefix[0]]]\n",
    "    get_input = lambda: torch.tensor([outputs[-1]], device=device).reshape((1, 1))\n",
    "    for y in prefix[1:]:  # 预热期\n",
    "        _, state = net(get_input(), state)\n",
    "        outputs.append(vocab[y])\n",
    "    for _ in range(num_preds):  # 预测num_preds步\n",
    "        y, state = net(get_input(), state)\n",
    "        outputs.append(int(y.argmax(dim=1).reshape(1)))\n",
    "    return ''.join([vocab.idx_to_token[i] for i in outputs])"
   ]
  },
  {
   "cell_type": "code",
   "execution_count": 21,
   "id": "9dece283",
   "metadata": {},
   "outputs": [],
   "source": [
    "# #训练和预测\n",
    "# vocab_size, num_hiddens, device = len(vocab), 256, d2l.try_gpu()\n",
    "# num_epochs, lr = 5000, 2\n",
    "# model2 = RNNModelScratch(len(vocab), num_hiddens, device, get_lstm_params,\n",
    "#                             init_lstm_state, lstm)\n",
    "# train_ch8(model2, train_iter, vocab, lr, num_epochs, device)"
   ]
  },
  {
   "cell_type": "code",
   "execution_count": 22,
   "id": "21254b4a",
   "metadata": {},
   "outputs": [],
   "source": [
    "# train_ch8(model, train_iter, vocab, lr, num_epochs, device)"
   ]
  },
  {
   "cell_type": "code",
   "execution_count": 24,
   "id": "be6010d5",
   "metadata": {},
   "outputs": [],
   "source": [
    "#torch.save(model2, './Chinese Poem NLP/Checkpoints/Poem_TangShi_2LSTM.pth')\n",
    "model2 = torch.load( './Chinese Poem NLP/Checkpoints/Poem_TangShi_2LSTM.pth')\n"
   ]
  },
  {
   "cell_type": "code",
   "execution_count": 25,
   "id": "76191333",
   "metadata": {},
   "outputs": [
    {
     "data": {
      "text/plain": [
       "'白日依山<unk>，飛觀一長空。長野千舊影，方色方長空。雲茲一天色，風為一時風'"
      ]
     },
     "execution_count": 25,
     "metadata": {},
     "output_type": "execute_result"
    }
   ],
   "source": [
    "predict_ch8('白日依山尽', 30, model2, vocab, d2l.try_gpu())"
   ]
  },
  {
   "cell_type": "code",
   "execution_count": 26,
   "id": "67267706",
   "metadata": {},
   "outputs": [
    {
     "data": {
      "text/plain": [
       "'床前明月光，疑似地上霜。連茲一舊影，終色宴長空。雲日一天跡，風日一時風。雲雲含舊影，風風散時風。雲雲含雲色，風風散時風。雲'"
      ]
     },
     "execution_count": 26,
     "metadata": {},
     "output_type": "execute_result"
    }
   ],
   "source": [
    "predict_ch8('床前明月光，疑似地上霜', 50, model2, vocab, d2l.try_gpu())"
   ]
  },
  {
   "cell_type": "code",
   "execution_count": 27,
   "id": "4aac96b6",
   "metadata": {},
   "outputs": [
    {
     "data": {
      "text/plain": [
       "'白日依山<unk><unk><unk>河入海流<unk>欲<unk>千里目，—室由來獨擅名。霞衣霞錦千般狀，雲峰雲岫百百慚。霞衣霞岫何賢光，還目天池倍百慚。魯霧運岫入雲霄，還色和池倍煙央。魯霧運岫入雲霄，還柞連池倍煙央。魯霧運岫入雲霄，還柞連臺接煙金。魯霧運岫入雲霄，還柞連'"
      ]
     },
     "execution_count": 27,
     "metadata": {},
     "output_type": "execute_result"
    }
   ],
   "source": [
    "predict_ch8('白日依山尽 黄河入海流 欲穷千里目', 100, model2, vocab, d2l.try_gpu())"
   ]
  },
  {
   "cell_type": "code",
   "execution_count": 28,
   "id": "592c2c22",
   "metadata": {},
   "outputs": [
    {
     "data": {
      "text/plain": [
       "'白日依山<unk>，<unk>河入海流。欲<unk>千里目，更上一<unk><unk>。日茲一天色，風為一時風。雲雲含舊跡，風風九時春。雲雲含雲色，風風散時風。雲雲含雲色，風風散時風。雲'"
      ]
     },
     "execution_count": 28,
     "metadata": {},
     "output_type": "execute_result"
    }
   ],
   "source": [
    "predict_ch8('白日依山尽，黄河入海流。欲穷千里目，更上一层楼', 50, model2, vocab, d2l.try_gpu())"
   ]
  },
  {
   "cell_type": "code",
   "execution_count": 32,
   "id": "5845b9c9",
   "metadata": {},
   "outputs": [
    {
     "data": {
      "text/plain": [
       "'<unk>里悲秋常作客<unk>百年多病<unk>登台—崔，——長愔初歌秦樓魯館沐雲光。——安樂公主陽本禮天地開，——薛稷帝歌難續仰昭回。——宋愔問師振旅'"
      ]
     },
     "execution_count": 32,
     "metadata": {},
     "output_type": "execute_result"
    }
   ],
   "source": [
    "predict_ch8('万里悲秋常作客,百年多病独登台', 50, model2, vocab, d2l.try_gpu())"
   ]
  },
  {
   "cell_type": "code",
   "execution_count": 33,
   "id": "5a9eb773",
   "metadata": {},
   "outputs": [
    {
     "data": {
      "text/plain": [
       "'空山不<unk>人，但<unk>人<unk><unk>。長野千里影，風觀方清春。日日一天色，風風一時風。雲軒含龍影，風風散時風。雲雲含雲'"
      ]
     },
     "execution_count": 33,
     "metadata": {},
     "output_type": "execute_result"
    }
   ],
   "source": [
    "predict_ch8('空山不见人，但闻人语响。', 40, model2, vocab, d2l.try_gpu())"
   ]
  },
  {
   "cell_type": "code",
   "execution_count": 36,
   "id": "81511d71",
   "metadata": {},
   "outputs": [
    {
     "data": {
      "text/plain": [
       "'空山不<unk>人，但<unk>人<unk><unk>。長野千里影，風觀方清春。日日一天色，風風一時風。雲軒含龍影，風風散時風。'"
      ]
     },
     "execution_count": 36,
     "metadata": {},
     "output_type": "execute_result"
    }
   ],
   "source": [
    "predict_ch8('空山不见人，但闻人语响。', 36, model2, vocab, d2l.try_gpu())"
   ]
  },
  {
   "cell_type": "code",
   "execution_count": 37,
   "id": "b0a33a18",
   "metadata": {},
   "outputs": [
    {
     "data": {
      "text/plain": [
       "'千山<unk><unk><unk>，<unk><unk>人<unk><unk>。一察千晉際，山觀乃參虛。太日猶重外，終池乃清風。寒日含龍影，風風九時春。'"
      ]
     },
     "execution_count": 37,
     "metadata": {},
     "output_type": "execute_result"
    }
   ],
   "source": [
    "predict_ch8('千山鸟飞绝，万径人踪灭。', 36, model2, vocab, d2l.try_gpu())"
   ]
  },
  {
   "cell_type": "code",
   "execution_count": 39,
   "id": "6a0160f4",
   "metadata": {},
   "outputs": [
    {
     "data": {
      "text/plain": [
       "'美人卷珠<unk>，深坐蹙蛾眉。連茲一舊影，終色方長空。雲日一天跡，風日一時風。雲雲含舊影，風風散時風。'"
      ]
     },
     "execution_count": 39,
     "metadata": {},
     "output_type": "execute_result"
    }
   ],
   "source": [
    "predict_ch8('美人卷珠帘，深坐蹙蛾眉。', 36, model2, vocab, d2l.try_gpu())"
   ]
  },
  {
   "cell_type": "code",
   "execution_count": 42,
   "id": "6a446fd5",
   "metadata": {},
   "outputs": [
    {
     "data": {
      "text/plain": [
       "'塞外悲風切，交河冰已結。昔日千春影，方色方長空。寒茲一天色，風風一時長。雲雲含舊跡，風風九時春。'"
      ]
     },
     "execution_count": 42,
     "metadata": {},
     "output_type": "execute_result"
    }
   ],
   "source": [
    "predict_ch8('塞外悲風切，交河冰已結。', 36, model2, vocab, d2l.try_gpu())"
   ]
  },
  {
   "cell_type": "code",
   "execution_count": 45,
   "id": "12a5095a",
   "metadata": {},
   "outputs": [
    {
     "data": {
      "text/plain": [
       "'三驅陳銳卒，七萃列材雄。連茲一春色，終色方長空。雲日三天影，風日一時風。雲雲含舊影，風風散時風。'"
      ]
     },
     "execution_count": 45,
     "metadata": {},
     "output_type": "execute_result"
    }
   ],
   "source": [
    "predict_ch8('三驅陳銳卒，七萃列材雄。', 36, model2, vocab, d2l.try_gpu())"
   ]
  },
  {
   "cell_type": "code",
   "execution_count": null,
   "id": "c0da71dd",
   "metadata": {},
   "outputs": [],
   "source": [
    "predict_ch8('', 36, model2, vocab, d2l.try_gpu())"
   ]
  },
  {
   "cell_type": "code",
   "execution_count": null,
   "id": "06697711",
   "metadata": {},
   "outputs": [],
   "source": [
    "predict_ch8('', 36, model2, vocab, d2l.try_gpu())"
   ]
  }
 ],
 "metadata": {
  "kernelspec": {
   "display_name": "Python 3 (ipykernel)",
   "language": "python",
   "name": "python3"
  },
  "language_info": {
   "codemirror_mode": {
    "name": "ipython",
    "version": 3
   },
   "file_extension": ".py",
   "mimetype": "text/x-python",
   "name": "python",
   "nbconvert_exporter": "python",
   "pygments_lexer": "ipython3",
   "version": "3.8.13"
  }
 },
 "nbformat": 4,
 "nbformat_minor": 5
}
