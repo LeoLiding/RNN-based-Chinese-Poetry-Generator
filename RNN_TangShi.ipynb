{
 "cells": [
  {
   "cell_type": "code",
   "execution_count": 45,
   "id": "bbf4960d",
   "metadata": {},
   "outputs": [],
   "source": [
    "%matplotlib inline\n",
    "import math\n",
    "import torch\n",
    "from torch import nn\n",
    "from torch.nn import functional as F\n",
    "from d2l import torch as d2l\n",
    "\n",
    "batch_size, num_steps = 128, 50\n"
   ]
  },
  {
   "cell_type": "code",
   "execution_count": 46,
   "id": "855b78b8",
   "metadata": {},
   "outputs": [
    {
     "name": "stdout",
     "output_type": "stream",
     "text": [
      "之罘思漢帝，碣石想秦皇。霓裳非本意，端拱且圖王。\n"
     ]
    }
   ],
   "source": [
    "import re\n",
    "import json\n",
    "\n",
    "def read_poem():\n",
    "    all_data = []\n",
    "    for i in range(1, 901):\n",
    "        file_num = str(i).zfill(3)\n",
    "        with open(f'./Chinese Poem NLP/chinese-poetry-master/quan_tang_shi/json/{file_num}.json', 'r', encoding='utf-8') as f:\n",
    "            data = json.load(f)\n",
    "            all_data += data\n",
    "    # Extract the lines from the data\n",
    "    lines = []\n",
    "    for poem in all_data:\n",
    "        for line in poem['paragraphs']:\n",
    "            lines.append(line)\n",
    "    return lines\n",
    "\n",
    "lines = read_poem()\n",
    "print(lines[100])"
   ]
  },
  {
   "cell_type": "code",
   "execution_count": 47,
   "id": "d2cfcca0",
   "metadata": {},
   "outputs": [
    {
     "name": "stdout",
     "output_type": "stream",
     "text": [
      "['秦川雄帝宅，函谷壯皇居。綺殿千尋起，離宮百雉餘。']\n",
      "['連薨遙接漢，飛觀迥淩虛。雲日隱層闕，風煙出綺疏。']\n",
      "['岩廊罷機務，崇文聊駐輦。玉匣啟龍圖，金繩披鳳篆。']\n",
      "['韋編斷仍續，縹帙舒還卷。對此乃淹留，欹案觀墳典。']\n",
      "['移步出詞林，停輿欣武宴。雕弓寫明月，駿馬疑流電。']\n",
      "['驚雁落虛弦，啼猿悲急箭。閱賞誠多美，於茲乃忘倦。']\n",
      "['鳴笳臨樂館，眺聽歡芳節。急管韻朱弦，清歌凝白雪。']\n",
      "['彩鳳肅來儀，玄鶴紛成列。去茲鄭衛聲，雅音方可悅。']\n",
      "['芳辰追逸趣，禁苑信多奇。橋形通漢上，峰勢接雲危。']\n",
      "['煙霞交隱映，花鳥自參差。何如肆轍跡，萬里賞瑤池。']\n",
      "['飛蓋去芳園，蘭橈遊翠渚。萍間日彩亂，荷處香風舉。']\n"
     ]
    }
   ],
   "source": [
    "def tokenize(lines, token='word'):  #@save\n",
    "    \"\"\"将文本行拆分为单词或字符词元\"\"\"\n",
    "    if token == 'word':\n",
    "        return [line.split() for line in lines]\n",
    "    elif token == 'char':\n",
    "        return [list(line) for line in lines]\n",
    "    else:\n",
    "        print('错误：未知词元类型：' + token)\n",
    "\n",
    "tokens = tokenize(lines)\n",
    "for i in range(11):\n",
    "    print(tokens[i])"
   ]
  },
  {
   "cell_type": "code",
   "execution_count": 48,
   "id": "b7d618e1",
   "metadata": {},
   "outputs": [],
   "source": [
    "def load_corpus_poem(max_tokens=-1):\n",
    "    \"\"\"Return token indices and the vocabulary of the wiki dataset.\n",
    "\n",
    "    Defined in :numref:`sec_text_preprocessing`\"\"\"\n",
    "    lines = read_poem()\n",
    "    tokens = d2l.tokenize(lines, 'char')\n",
    "    vocab = d2l.Vocab(tokens)\n",
    "    # Since each text line in the time machine dataset is not necessarily a\n",
    "    # sentence or a paragraph, flatten all the text lines into a single list\n",
    "    corpus = [vocab[token] for line in tokens for token in line]\n",
    "    if max_tokens > 0:\n",
    "        corpus = corpus[:max_tokens]\n",
    "    return corpus, vocab\n"
   ]
  },
  {
   "cell_type": "code",
   "execution_count": 49,
   "id": "f902ff86",
   "metadata": {},
   "outputs": [],
   "source": [
    "class SeqDataLoader:\n",
    "    \"\"\"An iterator to load sequence data.\"\"\"\n",
    "    def __init__(self, batch_size, num_steps, use_random_iter, max_tokens):\n",
    "        \"\"\"Defined in :numref:`sec_language_model`\"\"\"\n",
    "        if use_random_iter:\n",
    "            self.data_iter_fn = d2l.seq_data_iter_random\n",
    "        else:\n",
    "            self.data_iter_fn = d2l.seq_data_iter_sequential\n",
    "        self.corpus, self.vocab = load_corpus_poem(max_tokens)\n",
    "        self.batch_size, self.num_steps = batch_size, num_steps\n",
    "    def __iter__(self):\n",
    "        return self.data_iter_fn(self.corpus, self.batch_size, self.num_steps)\n"
   ]
  },
  {
   "cell_type": "code",
   "execution_count": 50,
   "id": "eafd0faf",
   "metadata": {},
   "outputs": [],
   "source": [
    "def load_data_poem(batch_size, num_steps,\n",
    "                           use_random_iter=False, max_tokens=10000):\n",
    "    \"\"\"Return the iterator and the vocabulary of the time machine dataset.\n",
    "\n",
    "    Defined in :numref:`sec_language_model`\"\"\"\n",
    "    data_iter = SeqDataLoader(\n",
    "        batch_size, num_steps, use_random_iter, max_tokens)\n",
    "    return data_iter, data_iter.vocab"
   ]
  },
  {
   "cell_type": "code",
   "execution_count": 51,
   "id": "cdc3a6a5",
   "metadata": {},
   "outputs": [],
   "source": [
    "train_iter, vocab = load_data_poem(batch_size, num_steps)"
   ]
  },
  {
   "cell_type": "code",
   "execution_count": 52,
   "id": "e085ad2e",
   "metadata": {},
   "outputs": [
    {
     "data": {
      "text/plain": [
       "tensor([[1, 0, 0,  ..., 0, 0, 0],\n",
       "        [0, 0, 1,  ..., 0, 0, 0]])"
      ]
     },
     "execution_count": 52,
     "metadata": {},
     "output_type": "execute_result"
    }
   ],
   "source": [
    "F.one_hot(torch.tensor([0, 2]), len(vocab))"
   ]
  },
  {
   "cell_type": "code",
   "execution_count": 53,
   "id": "aead70a2",
   "metadata": {},
   "outputs": [
    {
     "data": {
      "text/plain": [
       "torch.Size([5, 2, 28])"
      ]
     },
     "execution_count": 53,
     "metadata": {},
     "output_type": "execute_result"
    }
   ],
   "source": [
    "X = torch.arange(10).reshape((2, 5))\n",
    "F.one_hot(X.T, 28).shape"
   ]
  },
  {
   "cell_type": "code",
   "execution_count": 54,
   "id": "d4bbaca4",
   "metadata": {},
   "outputs": [],
   "source": [
    "#初始化模型参数\n",
    "def get_params(vocab_size, num_hiddens, device):\n",
    "    num_inputs = num_outputs = vocab_size\n",
    "\n",
    "    def normal(shape):\n",
    "        return torch.randn(size=shape, device=device) * 0.01\n",
    "\n",
    "    # 隐藏层参数\n",
    "    W_xh = normal((num_inputs, num_hiddens))\n",
    "    W_hh = normal((num_hiddens, num_hiddens))\n",
    "    b_h = torch.zeros(num_hiddens, device=device)\n",
    "    # 输出层参数\n",
    "    W_hq = normal((num_hiddens, num_outputs))\n",
    "    b_q = torch.zeros(num_outputs, device=device)\n",
    "    # 附加梯度\n",
    "    params = [W_xh, W_hh, b_h, W_hq, b_q]\n",
    "    for param in params:\n",
    "        param.requires_grad_(True)\n",
    "    return params"
   ]
  },
  {
   "cell_type": "code",
   "execution_count": 55,
   "id": "e007716b",
   "metadata": {},
   "outputs": [],
   "source": [
    "def init_rnn_state(batch_size, num_hiddens, device):\n",
    "    return (torch.zeros((batch_size, num_hiddens), device=device), )"
   ]
  },
  {
   "cell_type": "code",
   "execution_count": 56,
   "id": "af1087a2",
   "metadata": {},
   "outputs": [],
   "source": [
    "def rnn(inputs, state, params):\n",
    "    # inputs的形状：(时间步数量，批量大小，词表大小)\n",
    "    W_xh, W_hh, b_h, W_hq, b_q = params\n",
    "    H, = state\n",
    "    outputs = []\n",
    "    # X的形状：(批量大小，词表大小)\n",
    "    for X in inputs:\n",
    "        H = torch.tanh(torch.mm(X, W_xh) + torch.mm(H, W_hh) + b_h)\n",
    "        Y = torch.mm(H, W_hq) + b_q\n",
    "        outputs.append(Y)\n",
    "    return torch.cat(outputs, dim=0), (H,)"
   ]
  },
  {
   "cell_type": "code",
   "execution_count": 57,
   "id": "cf8c7616",
   "metadata": {},
   "outputs": [],
   "source": [
    "class RNNModelScratch: #@save\n",
    "    \"\"\"从零开始实现的循环神经网络模型\"\"\"\n",
    "    def __init__(self, vocab_size, num_hiddens, device,\n",
    "                 get_params, init_state, forward_fn):\n",
    "        self.vocab_size, self.num_hiddens = vocab_size, num_hiddens\n",
    "        self.params = get_params(vocab_size, num_hiddens, device)\n",
    "        self.init_state, self.forward_fn = init_state, forward_fn\n",
    "\n",
    "    def __call__(self, X, state):\n",
    "        X = F.one_hot(X.T, self.vocab_size).type(torch.float32)\n",
    "        return self.forward_fn(X, state, self.params)\n",
    "\n",
    "    def begin_state(self, batch_size, device):\n",
    "        return self.init_state(batch_size, self.num_hiddens, device)"
   ]
  },
  {
   "cell_type": "code",
   "execution_count": 58,
   "id": "b59bb2e8",
   "metadata": {},
   "outputs": [
    {
     "data": {
      "text/plain": [
       "(torch.Size([10, 7431]), 1, torch.Size([2, 512]))"
      ]
     },
     "execution_count": 58,
     "metadata": {},
     "output_type": "execute_result"
    }
   ],
   "source": [
    "num_hiddens = 512\n",
    "net = RNNModelScratch(len(vocab), num_hiddens, d2l.try_gpu(), get_params,\n",
    "                      init_rnn_state, rnn)\n",
    "state = net.begin_state(X.shape[0], d2l.try_gpu())\n",
    "Y, new_state = net(X.to(d2l.try_gpu()), state)\n",
    "Y.shape, len(new_state), new_state[0].shape"
   ]
  },
  {
   "cell_type": "code",
   "execution_count": 93,
   "id": "4f50165e",
   "metadata": {},
   "outputs": [],
   "source": [
    "def predict(prefix, num_preds, net, vocab, device):  #@save\n",
    "    \"\"\"在prefix后面生成新字符\"\"\"\n",
    "    state = net.begin_state(batch_size=1, device=device)\n",
    "    outputs = [vocab[prefix[0]]]\n",
    "    get_input = lambda: torch.tensor([outputs[-1]], device=device).reshape((1, 1))\n",
    "    for y in prefix[1:]:  # 预热期\n",
    "        _, state = net(get_input(), state)\n",
    "        outputs.append(vocab[y])\n",
    "    for _ in range(num_preds):  # 预测num_preds步\n",
    "        y, state = net(get_input(), state)\n",
    "        outputs.append(int(y.argmax(dim=1).reshape(1)))\n",
    "    return ''.join([vocab.idx_to_token[i] for i in outputs])"
   ]
  },
  {
   "cell_type": "code",
   "execution_count": 60,
   "id": "e62c0cf0",
   "metadata": {},
   "outputs": [
    {
     "data": {
      "text/plain": [
       "'生<unk>作人<unk><unk>死亦<unk>鬼雄醷拌侈荒停勷軏台G酉偃綻恂製巡傍虥冪究U籺漼囿罪睞8繁榜漻惸'"
      ]
     },
     "execution_count": 60,
     "metadata": {},
     "output_type": "execute_result"
    }
   ],
   "source": [
    "predict_ch8('生当作人杰 死亦为鬼雄', 30, net, vocab, d2l.try_gpu())"
   ]
  },
  {
   "cell_type": "code",
   "execution_count": 61,
   "id": "f3a7d25d",
   "metadata": {},
   "outputs": [],
   "source": [
    "def grad_clipping(net, theta):  #@save\n",
    "    \"\"\"裁剪梯度\"\"\"\n",
    "    if isinstance(net, nn.Module):\n",
    "        params = [p for p in net.parameters() if p.requires_grad]\n",
    "    else:\n",
    "        params = net.params\n",
    "    norm = torch.sqrt(sum(torch.sum((p.grad ** 2)) for p in params))\n",
    "    if norm > theta:\n",
    "        for param in params:\n",
    "            param.grad[:] *= theta / norm"
   ]
  },
  {
   "cell_type": "code",
   "execution_count": 62,
   "id": "05e0b4af",
   "metadata": {},
   "outputs": [],
   "source": [
    "# #@save\n",
    "# def train_epoch_ch8(net, train_iter, loss, updater, device, use_random_iter):\n",
    "#     \"\"\"训练网络一个迭代周期\"\"\"\n",
    "#     state, timer = None, d2l.Timer()\n",
    "#     metric = d2l.Accumulator(2)  # 训练损失之和,词元数量\n",
    "#     for X, Y in train_iter:\n",
    "#         if state is None or use_random_iter:\n",
    "#             # 在第一次迭代或使用随机抽样时初始化state\n",
    "#             state = net.begin_state(batch_size=X.shape[0], device=device)\n",
    "#         else:\n",
    "#             if isinstance(net, nn.Module) and not isinstance(state, tuple):\n",
    "#                 # state对于nn.GRU是个张量\n",
    "#                 state.detach_()\n",
    "#             else:\n",
    "#                 # state对于nn.LSTM或对于我们从零开始实现的模型是个张量\n",
    "#                 for s in state:\n",
    "#                     s.detach_()\n",
    "#         y = Y.T.reshape(-1)\n",
    "#         X, y = X.to(device), y.to(device)\n",
    "#         y_hat, state = net(X, state)\n",
    "#         l = loss(y_hat, y.long()).mean()\n",
    "#         if isinstance(updater, torch.optim.Optimizer):\n",
    "#             updater.zero_grad()\n",
    "#             l.backward()\n",
    "#             grad_clipping(net, 1)\n",
    "#             updater.step()\n",
    "#         else:\n",
    "#             l.backward()\n",
    "#             grad_clipping(net, 1)\n",
    "#             # 因为已经调用了mean函数\n",
    "#             updater(batch_size=1)\n",
    "#         metric.add(l * y.numel(), y.numel())\n",
    "#     return math.exp(metric[0] / metric[1]), metric[1] / timer.stop()\n",
    "def train_epoch_ch8(net, train_iter, loss, updater, device, use_random_iter):\n",
    "    \"\"\"Train a net within one epoch (defined in Chapter 8).\n",
    "\n",
    "    Defined in :numref:`sec_rnn_scratch`\"\"\"\n",
    "    state, timer = None, d2l.Timer()\n",
    "    metric = d2l.Accumulator(2)  # Sum of training loss, no. of tokens\n",
    "    for X, Y in train_iter:\n",
    "        if state is None or use_random_iter:\n",
    "            # Initialize `state` when either it is the first iteration or\n",
    "            # using random sampling\n",
    "            state = net.begin_state(batch_size=X.shape[0], device=device)\n",
    "        else:\n",
    "            if isinstance(net, nn.Module) and not isinstance(state, tuple):\n",
    "                # `state` is a tensor for `nn.GRU`\n",
    "                state.detach_()\n",
    "            else:\n",
    "                # `state` is a tuple of tensors for `nn.LSTM` and\n",
    "                # for our custom scratch implementation\n",
    "                for s in state:\n",
    "                    s.detach_()\n",
    "        y = Y.T.reshape(-1)\n",
    "        X, y = X.to(device), y.to(device)\n",
    "        y_hat, state = net(X, state)\n",
    "        l = loss(y_hat, y.long()).mean()\n",
    "        if isinstance(updater, torch.optim.Optimizer):\n",
    "            updater.zero_grad()\n",
    "            l.backward()\n",
    "            grad_clipping(net, 1)\n",
    "            updater.step()\n",
    "        else:\n",
    "            l.backward()\n",
    "            grad_clipping(net, 1)\n",
    "            # Since the `mean` function has been invoked\n",
    "            updater(batch_size=1)\n",
    "        metric.add(l * d2l.size(y), d2l.size(y))\n",
    "    return math.exp(metric[0] / metric[1]), metric[1] / timer.stop()"
   ]
  },
  {
   "cell_type": "code",
   "execution_count": 63,
   "id": "9483260a",
   "metadata": {},
   "outputs": [],
   "source": [
    "#高级API\n",
    "#@save\n",
    "def train_ch8(net, train_iter, vocab, lr, num_epochs, device,\n",
    "              use_random_iter=False):\n",
    "    \"\"\"训练模型（定义见第8章）\"\"\"\n",
    "    loss = nn.CrossEntropyLoss()\n",
    "    animator = d2l.Animator(xlabel='epoch', ylabel='perplexity',\n",
    "                            legend=['train'], xlim=[10, num_epochs])\n",
    "    # 初始化\n",
    "    if isinstance(net, nn.Module):\n",
    "        updater = torch.optim.SGD(net.parameters(), lr)\n",
    "    else:\n",
    "        updater = lambda batch_size: d2l.sgd(net.params, lr, batch_size)\n",
    "    predict = lambda prefix: predict_ch8(prefix, 50, net, vocab, device)\n",
    "    # 训练和预测\n",
    "    for epoch in range(num_epochs):\n",
    "        ppl, speed = train_epoch_ch8(\n",
    "            net, train_iter, loss, updater, device, use_random_iter)\n",
    "        if (epoch + 1) % 10 == 0:\n",
    "            print(predict('生当作人杰 死亦为鬼雄'))\n",
    "            animator.add(epoch + 1, [ppl])\n",
    "    print(f'困惑度 {ppl:.1f}, {speed:.1f} 词元/秒 {str(device)}')\n",
    "    print(predict('白日依山尽'))\n",
    "    print(predict('千山鸟飞绝'))"
   ]
  },
  {
   "cell_type": "code",
   "execution_count": 64,
   "id": "3880c174",
   "metadata": {},
   "outputs": [],
   "source": [
    "# num_epochs, lr = 2000, 0.2\n",
    "# train_ch8(net, train_iter, vocab, lr, num_epochs, d2l.try_gpu())"
   ]
  },
  {
   "cell_type": "markdown",
   "id": "0c4abd46",
   "metadata": {},
   "source": []
  },
  {
   "cell_type": "code",
   "execution_count": 65,
   "id": "b70ed390",
   "metadata": {},
   "outputs": [],
   "source": [
    "#torch.save(net, './Chinese Poem NLP/Checkpoints/Poem_TangShi_RNN_N5000.pth')"
   ]
  },
  {
   "cell_type": "code",
   "execution_count": 74,
   "id": "be6010d5",
   "metadata": {},
   "outputs": [],
   "source": [
    "model = torch.load( './Chinese Poem NLP/Checkpoints/Poem_TangShi_RNN_N5000.pth')\n",
    "model2 = torch.load( './Chinese Poem NLP/Checkpoints/Poem_TangShi_RNN_N3000.pth')"
   ]
  },
  {
   "cell_type": "code",
   "execution_count": 76,
   "id": "67267706",
   "metadata": {},
   "outputs": [
    {
     "data": {
      "text/plain": [
       "'白日依山<unk>。日輪臨天葉，高宮方雲臣。暮野一天色，方原方朝光。寒茲三九色，無為散朝光。昔流歡地地，今雲上下風。秋'"
      ]
     },
     "execution_count": 76,
     "metadata": {},
     "output_type": "execute_result"
    }
   ],
   "source": [
    "predict_ch8('白日依山尽', 50, model, vocab, d2l.try_gpu())"
   ]
  },
  {
   "cell_type": "code",
   "execution_count": 77,
   "id": "5ee0cd69",
   "metadata": {},
   "outputs": [
    {
     "data": {
      "text/plain": [
       "'白日依山<unk>。清輪含春影，終色方朝光。雲霞三九影，翠花散朝風。雲雲含龍影，無日散雲風。長雲含龍影，無日散雲風。長'"
      ]
     },
     "execution_count": 77,
     "metadata": {},
     "output_type": "execute_result"
    }
   ],
   "source": [
    "predict_ch8('白日依山尽', 50, model2, vocab, d2l.try_gpu())"
   ]
  },
  {
   "cell_type": "code",
   "execution_count": 68,
   "id": "4aac96b6",
   "metadata": {},
   "outputs": [
    {
     "data": {
      "text/plain": [
       "'床前明月光，疑似地上霜<unk>岸。惟峰黃家箕山北，不知虛度兩京春。去年餘閏今春早，曙色和風著花草。可憐寒岫入清明，還想連池起煙霧。樹霧驪食與清明，預想連池起煙霧。樹廬驪道與清明，預想連池起煙霧。樹霧驪食與清明，預想連池起煙霧。樹霧'"
      ]
     },
     "execution_count": 68,
     "metadata": {},
     "output_type": "execute_result"
    }
   ],
   "source": [
    "predict('床前明月光，疑似地上霜 ', 100, model, vocab)"
   ]
  },
  {
   "cell_type": "code",
   "execution_count": 78,
   "id": "90aab646",
   "metadata": {},
   "outputs": [
    {
     "data": {
      "text/plain": [
       "'床前明月光，疑似地上霜。花雲猶天影，終色方朝春。雲霞三九影，翠花散朝風。雲雲含龍影，無日散雲風。長雲含龍影，無日散雲風。長'"
      ]
     },
     "execution_count": 78,
     "metadata": {},
     "output_type": "execute_result"
    }
   ],
   "source": [
    "predict('床前明月光，疑似地上霜', 50, model2, vocab)"
   ]
  },
  {
   "cell_type": "code",
   "execution_count": 79,
   "id": "592c2c22",
   "metadata": {},
   "outputs": [
    {
     "data": {
      "text/plain": [
       "'烈烈寒風起，慘慘飛雲浮。高雲猶天色，無原散朝光。玉日三初色，風風散朝光。長流千四影，無樹散朝風。昔日凝地影，風風散雲風。秋雲凝地影，無樹散還風。昔流凝地影，風風散雲風。秋流無地影，無樹散還風。雲雲凝地色，風來散雲風。秋流無地'"
      ]
     },
     "execution_count": 79,
     "metadata": {},
     "output_type": "execute_result"
    }
   ],
   "source": [
    "predict_ch8('烈烈寒風起，慘慘飛雲浮。', 100, model, vocab, d2l.try_gpu())"
   ]
  },
  {
   "cell_type": "code",
   "execution_count": 80,
   "id": "f81f3f2e",
   "metadata": {},
   "outputs": [
    {
     "data": {
      "text/plain": [
       "'烈烈寒風起，慘慘飛雲浮。寒雲猶天影，終色方朝光。雲霞三九影，翠花散朝風。雲雲含龍影，無日散雲風。長雲含龍影，無日散雲風。長雲含龍影，無日散雲風。長雲含龍影，無日散雲風。長雲含龍影，無日散雲風。長雲含龍影，無日散雲風。長雲含龍'"
      ]
     },
     "execution_count": 80,
     "metadata": {},
     "output_type": "execute_result"
    }
   ],
   "source": [
    "predict_ch8('烈烈寒風起，慘慘飛雲浮。', 100, model2, vocab, d2l.try_gpu())"
   ]
  },
  {
   "cell_type": "code",
   "execution_count": 70,
   "id": "39d1e7d9",
   "metadata": {},
   "outputs": [
    {
     "data": {
      "text/plain": [
       "'三驅陳銳卒，七萃列材雄。地華一重雪，終原方可紅。寒茲三九色，無樹散朝光。長流無地地，今雲散下風。'"
      ]
     },
     "execution_count": 70,
     "metadata": {},
     "output_type": "execute_result"
    }
   ],
   "source": [
    "predict_ch8('三驅陳銳卒，七萃列材雄。', 36, model, vocab, d2l.try_gpu())"
   ]
  },
  {
   "cell_type": "code",
   "execution_count": 81,
   "id": "57b56aed",
   "metadata": {},
   "outputs": [
    {
     "data": {
      "text/plain": [
       "'三驅陳銳卒，七萃列材雄。登言一天影，方花方朝光。雲霞三九影，翠花散朝風。雲雲含龍影，無日散雲風。'"
      ]
     },
     "execution_count": 81,
     "metadata": {},
     "output_type": "execute_result"
    }
   ],
   "source": [
    "predict_ch8('三驅陳銳卒，七萃列材雄。', 36, model2, vocab, d2l.try_gpu())"
   ]
  },
  {
   "cell_type": "code",
   "execution_count": 71,
   "id": "36d1a7b9",
   "metadata": {},
   "outputs": [
    {
     "data": {
      "text/plain": [
       "'塞外悲風切，交河冰已結。地霞猶遠影，持樹開長空。玉日三春色，風花散影光。長當無地極，無雲散下風。'"
      ]
     },
     "execution_count": 71,
     "metadata": {},
     "output_type": "execute_result"
    }
   ],
   "source": [
    "predict('塞外悲風切，交河冰已結。', 36, model, vocab)"
   ]
  },
  {
   "cell_type": "code",
   "execution_count": 82,
   "id": "be89e519",
   "metadata": {},
   "outputs": [
    {
     "data": {
      "text/plain": [
       "'塞外悲風切，交河冰已結。花雲猶天影，終色方朝春。雲霞三九影，翠花散朝風。雲雲含龍影，無日散雲風。'"
      ]
     },
     "execution_count": 82,
     "metadata": {},
     "output_type": "execute_result"
    }
   ],
   "source": [
    "predict_ch8('塞外悲風切，交河冰已結。', 36, model2, vocab, d2l.try_gpu())"
   ]
  },
  {
   "cell_type": "code",
   "execution_count": 72,
   "id": "89e86baa",
   "metadata": {},
   "outputs": [
    {
     "data": {
      "text/plain": [
       "'美人卷珠<unk>，深坐蹙蛾眉。一豐千萬節，臨輿方重中。寒日一舊色，無樹散朝光。長雲無四極，無雲散還風。'"
      ]
     },
     "execution_count": 72,
     "metadata": {},
     "output_type": "execute_result"
    }
   ],
   "source": [
    "predict_ch8('美人卷珠帘，深坐蹙蛾眉。', 36, model, vocab, d2l.try_gpu())"
   ]
  },
  {
   "cell_type": "code",
   "execution_count": 83,
   "id": "0f9e385a",
   "metadata": {},
   "outputs": [
    {
     "data": {
      "text/plain": [
       "'仙氣凝三嶺，和風扇八荒。高茲三天色，無樹散朝光。玉茲千初影，風風散朝光。長流三地影，無為散還風。'"
      ]
     },
     "execution_count": 83,
     "metadata": {},
     "output_type": "execute_result"
    }
   ],
   "source": [
    "predict_ch8('仙氣凝三嶺，和風扇八荒。', 36, model, vocab, d2l.try_gpu())"
   ]
  },
  {
   "cell_type": "code",
   "execution_count": 84,
   "id": "d201b8c9",
   "metadata": {},
   "outputs": [
    {
     "data": {
      "text/plain": [
       "'照岸花分彩，迷雲雁斷行。懷野千春色，無原方可春。寒日三九色，無為散朝光。昔流歡地地，今雲上下風。'"
      ]
     },
     "execution_count": 84,
     "metadata": {},
     "output_type": "execute_result"
    }
   ],
   "source": [
    "predict_ch8('照岸花分彩，迷雲雁斷行。', 36, model, vocab, d2l.try_gpu())"
   ]
  },
  {
   "cell_type": "code",
   "execution_count": 88,
   "id": "6098007d",
   "metadata": {},
   "outputs": [
    {
     "data": {
      "text/plain": [
       "'之罘思漢帝，碣石想秦皇。登言飛天色，三觀駐朝光。'"
      ]
     },
     "execution_count": 88,
     "metadata": {},
     "output_type": "execute_result"
    }
   ],
   "source": [
    "predict_ch8('之罘思漢帝，碣石想秦皇', 13, model, vocab, d2l.try_gpu())"
   ]
  },
  {
   "cell_type": "code",
   "execution_count": 92,
   "id": "a99ddea7",
   "metadata": {},
   "outputs": [
    {
     "data": {
      "text/plain": [
       "'四海皇風被，千年德水清。高日猶春色，無樹散朝光。玉茲三初影，風風散朝光。昔流三地影，無為散還風。'"
      ]
     },
     "execution_count": 92,
     "metadata": {},
     "output_type": "execute_result"
    }
   ],
   "source": [
    "predict_ch8('四海皇風被，千年德水清。', 36, model, vocab, d2l.try_gpu())"
   ]
  },
  {
   "cell_type": "code",
   "execution_count": null,
   "id": "07577b25",
   "metadata": {},
   "outputs": [],
   "source": []
  },
  {
   "cell_type": "code",
   "execution_count": null,
   "id": "fe0733dc",
   "metadata": {},
   "outputs": [],
   "source": []
  },
  {
   "cell_type": "code",
   "execution_count": null,
   "id": "d53f7386",
   "metadata": {},
   "outputs": [],
   "source": []
  }
 ],
 "metadata": {
  "kernelspec": {
   "display_name": "Python 3 (ipykernel)",
   "language": "python",
   "name": "python3"
  },
  "language_info": {
   "codemirror_mode": {
    "name": "ipython",
    "version": 3
   },
   "file_extension": ".py",
   "mimetype": "text/x-python",
   "name": "python",
   "nbconvert_exporter": "python",
   "pygments_lexer": "ipython3",
   "version": "3.8.13"
  }
 },
 "nbformat": 4,
 "nbformat_minor": 5
}
